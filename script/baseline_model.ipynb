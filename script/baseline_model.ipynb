{
 "cells": [
  {
   "cell_type": "code",
   "execution_count": 1,
   "metadata": {},
   "outputs": [],
   "source": [
    "import pandas as pd\n",
    "import numpy as np\n",
    "from sklearn.model_selection import train_test_split\n",
    "from sklearn.linear_model import LogisticRegression\n",
    "from sklearn.feature_extraction.text import TfidfVectorizer\n",
    "from scipy.sparse import hstack"
   ]
  },
  {
   "cell_type": "code",
   "execution_count": 2,
   "metadata": {},
   "outputs": [],
   "source": [
    "def preprocess_text(text):\n",
    "    return text.str.lower().replace(r'[^a-zA-Z0-9\\s]', ' ', regex=True).str.strip().str.split().apply(lambda tokens: ' '.join(tokens))"
   ]
  },
  {
   "cell_type": "code",
   "execution_count": 5,
   "metadata": {},
   "outputs": [
    {
     "name": "stdout",
     "output_type": "stream",
     "text": [
      "Validation Accuracy: 0.6604\n",
      "Test Accuracy: 0.5952\n"
     ]
    }
   ],
   "source": [
    "def main():\n",
    "    # load the dataset\n",
    "    ELCo_df = pd.read_csv('../data/ELCo.csv')\n",
    "    ELCo_df = ELCo_df.drop(columns=['EM'])\n",
    "\n",
    "    # preprocess the dataset\n",
    "    ELCo_df['Description'] = preprocess_text(ELCo_df['Description'])\n",
    "    ELCo_df['EN'] = preprocess_text(ELCo_df['EN'])\n",
    "\n",
    "    # map the 'Composition strategy' column to numerical values\n",
    "    composition_strategy_mapping = {name: idx for idx, name in enumerate(ELCo_df['Composition strategy'].unique())}\n",
    "    ELCo_df['Composition strategy'] = ELCo_df['Composition strategy'].map(composition_strategy_mapping)\n",
    "\n",
    "    # split the dataset into train, validate and test sets\n",
    "    train_df, test_df = train_test_split(ELCo_df, test_size=0.2, random_state=42, stratify=ELCo_df['Composition strategy'])\n",
    "\n",
    "    # further split the test set into validate and test sets\n",
    "    train_df, validate_df = train_test_split(train_df, test_size=0.2, random_state=42, stratify=train_df['Composition strategy'])\n",
    "    X_train, y_train = train_df.drop(columns=['Composition strategy']), train_df['Composition strategy']\n",
    "    X_validate, y_validate = validate_df.drop(columns=['Composition strategy']), validate_df['Composition strategy']\n",
    "    X_test, y_test = test_df.drop(columns=['Composition strategy']), test_df['Composition strategy']\n",
    "\n",
    "    # feature extraction\n",
    "    vectorizer_en = TfidfVectorizer(ngram_range=(1, 2), max_features=10000)\n",
    "    vectorizer_description = TfidfVectorizer(ngram_range=(1, 2), max_features=10000)\n",
    "    X_train_en = vectorizer_en.fit_transform(X_train['EN'])\n",
    "    X_train_description = vectorizer_description.fit_transform(X_train['Description'])\n",
    "    X_train_vectorized = hstack([X_train_en, X_train_description])\n",
    "\n",
    "    # define the model\n",
    "    model = LogisticRegression(max_iter=1000, verbose=1)\n",
    "\n",
    "    # train the model\n",
    "    model.fit(X_train_vectorized, y_train)\n",
    "    \n",
    "    # validate the model\n",
    "    X_validate_en = vectorizer_en.transform(X_validate['EN'])\n",
    "    X_validate_description = vectorizer_description.transform(X_validate['Description'])\n",
    "    X_validate_vectorized = hstack([X_validate_en, X_validate_description])\n",
    "    y_validate_pred = model.predict(X_validate_vectorized)\n",
    "    validate_accuracy = np.mean(y_validate_pred == y_validate)\n",
    "    print(f\"Validation Accuracy: {validate_accuracy:.4f}\")\n",
    "\n",
    "    # test the model\n",
    "    X_test_en = vectorizer_en.transform(X_test['EN'])\n",
    "    X_test_description = vectorizer_description.transform(X_test['Description'])\n",
    "    X_test_vectorized = hstack([X_test_en, X_test_description])\n",
    "    y_test_pred = model.predict(X_test_vectorized)\n",
    "    test_accuracy = np.mean(y_test_pred == y_test)\n",
    "    print(f\"Test Accuracy: {test_accuracy:.4f}\")\n",
    "\n",
    "if __name__ == \"__main__\":\n",
    "    main()"
   ]
  }
 ],
 "metadata": {
  "kernelspec": {
   "display_name": "CS4248",
   "language": "python",
   "name": "python3"
  },
  "language_info": {
   "codemirror_mode": {
    "name": "ipython",
    "version": 3
   },
   "file_extension": ".py",
   "mimetype": "text/x-python",
   "name": "python",
   "nbconvert_exporter": "python",
   "pygments_lexer": "ipython3",
   "version": "3.11.11"
  }
 },
 "nbformat": 4,
 "nbformat_minor": 2
}
