{
 "cells": [
  {
   "cell_type": "code",
   "execution_count": 1,
   "metadata": {},
   "outputs": [],
   "source": [
    "import pandas as pd\n",
    "import numpy as np\n",
    "import re\n",
    "from sklearn.model_selection import train_test_split\n",
    "from sklearn.preprocessing import LabelEncoder\n",
    "import torch\n",
    "import torch.nn as nn\n",
    "from torch.utils.data import Dataset, DataLoader"
   ]
  },
  {
   "cell_type": "code",
   "execution_count": 11,
   "metadata": {},
   "outputs": [
    {
     "data": {
      "text/plain": [
       "device(type='cpu')"
      ]
     },
     "execution_count": 11,
     "metadata": {},
     "output_type": "execute_result"
    }
   ],
   "source": [
    "device = torch.device(\"cuda\" if torch.cuda.is_available() else \"cpu\")\n",
    "device"
   ]
  },
  {
   "cell_type": "code",
   "execution_count": 3,
   "metadata": {},
   "outputs": [],
   "source": [
    "def preprocess_text(text_series):\n",
    "    return (text_series\n",
    "            .str.lower()\n",
    "            .replace(r'[^a-z0-9\\s]', ' ', regex=True)\n",
    "            .str.strip()\n",
    "            .str.split()\n",
    "            .apply(lambda tokens: ' '.join(tokens)))\n",
    "\n",
    "def preprocess_df(df):\n",
    "    df = df.drop(columns=['EM'])\n",
    "    df['Description'] = preprocess_text(df['Description'])\n",
    "    df['EN'] = preprocess_text(df['EN'])\n",
    "    df['combined_text'] = df['Description'] + ' ' + df['EN']\n",
    "    train_df, test_df = train_test_split(\n",
    "        df, test_size=0.2, random_state=42, stratify=df['Composition strategy']\n",
    "    )\n",
    "    train_df, val_df = train_test_split(\n",
    "        train_df, test_size=0.2, random_state=42, stratify=train_df['Composition strategy']\n",
    "    )\n",
    "    return train_df, val_df, test_df\n"
   ]
  },
  {
   "cell_type": "code",
   "execution_count": 4,
   "metadata": {},
   "outputs": [],
   "source": [
    "def load_glove_embeddings(filepath):\n",
    "    glove_dict = {}\n",
    "    with open(filepath, 'r', encoding='utf-8') as f:\n",
    "        for line in f:\n",
    "            values = line.split()\n",
    "            word = values[0]\n",
    "            vector = np.asarray(values[1:], dtype='float32')\n",
    "            glove_dict[word] = vector\n",
    "    return glove_dict\n",
    "\n",
    "def sentence_to_embedding_sequence(sentence, glove_dict, embedding_dim=100, max_len=50):\n",
    "    tokens = sentence.split()\n",
    "    sequence = []\n",
    "    for token in tokens:\n",
    "        if token in glove_dict:\n",
    "            sequence.append(glove_dict[token])\n",
    "        else:\n",
    "            sequence.append(np.zeros(embedding_dim, dtype=np.float32))\n",
    "    # Pad or truncate the sequence to max_len\n",
    "    if len(sequence) < max_len:\n",
    "        padding = [np.zeros(embedding_dim, dtype=np.float32)] * (max_len - len(sequence))\n",
    "        sequence.extend(padding)\n",
    "    else:\n",
    "        sequence = sequence[:max_len]\n",
    "    return np.stack(sequence)  # Shape: (max_len, embedding_dim)"
   ]
  },
  {
   "cell_type": "code",
   "execution_count": 5,
   "metadata": {},
   "outputs": [],
   "source": [
    "class ELCoGloveRNNDataset(Dataset):\n",
    "    def __init__(self, df, glove_dict, embedding_dim=100, max_len=50):\n",
    "        self.sentences = df['combined_text'].tolist()\n",
    "        self.labels = df['Composition strategy'].tolist()\n",
    "        self.glove_dict = glove_dict\n",
    "        self.embedding_dim = embedding_dim\n",
    "        self.max_len = max_len\n",
    "    def __len__(self):\n",
    "        return len(self.labels)\n",
    "    \n",
    "    def __getitem__(self, idx):\n",
    "        sentence = self.sentences[idx]\n",
    "        # Convert the sentence to a sequence of GloVe embeddings\n",
    "        sequence = sentence_to_embedding_sequence(sentence, self.glove_dict, self.embedding_dim, self.max_len)\n",
    "        sequence_tensor = torch.tensor(sequence, dtype=torch.float32)\n",
    "        label_tensor = torch.tensor(self.labels[idx], dtype=torch.long)\n",
    "        return sequence_tensor, label_tensor"
   ]
  },
  {
   "cell_type": "code",
   "execution_count": 7,
   "metadata": {},
   "outputs": [],
   "source": [
    "class RNNClassifier(nn.Module):\n",
    "    def __init__(self, embedding_dim, hidden_dim, output_dim, num_layers=1, bidirectional=False):\n",
    "        super(RNNClassifier, self).__init__()\n",
    "        self.lstm = nn.LSTM(\n",
    "            input_size=embedding_dim,\n",
    "            hidden_size=hidden_dim,\n",
    "            num_layers=num_layers,\n",
    "            batch_first=True,\n",
    "            bidirectional=bidirectional\n",
    "        )\n",
    "        lstm_output_dim = hidden_dim * 2 if bidirectional else hidden_dim\n",
    "        self.fc = nn.Linear(lstm_output_dim, output_dim)\n",
    "        \n",
    "    def forward(self, x):\n",
    "        # x: shape (batch_size, seq_len, embedding_dim)\n",
    "        output, (hn, cn) = self.lstm(x)\n",
    "        # Use the last hidden state from the final layer (concatenate if bidirectional)\n",
    "        if self.lstm.bidirectional:\n",
    "            # Concatenate the last hidden state from forward and backward directions\n",
    "            last_hidden = torch.cat((hn[-2], hn[-1]), dim=1)\n",
    "        else:\n",
    "            last_hidden = hn[-1]\n",
    "        logits = self.fc(last_hidden)\n",
    "        return logits"
   ]
  },
  {
   "cell_type": "code",
   "execution_count": 8,
   "metadata": {},
   "outputs": [],
   "source": [
    "glove_path = '../../embeddings/glove.6B.100d.txt'\n",
    "glove_embeddings = load_glove_embeddings(glove_path)\n",
    "embedding_dim = 100"
   ]
  },
  {
   "cell_type": "code",
   "execution_count": 9,
   "metadata": {},
   "outputs": [],
   "source": [
    "ELCo_df = pd.read_csv('../../data/ELCo.csv')\n",
    "label_encoder = LabelEncoder()\n",
    "ELCo_df['Composition strategy'] = label_encoder.fit_transform(ELCo_df['Composition strategy'])"
   ]
  },
  {
   "cell_type": "code",
   "execution_count": 10,
   "metadata": {},
   "outputs": [],
   "source": [
    "batch_size = 32\n",
    "max_len = 50\n",
    "train_df, val_df, test_df = preprocess_df(ELCo_df)\n",
    "\n",
    "train_dataset = ELCoGloveRNNDataset(train_df, glove_embeddings, embedding_dim, max_len)\n",
    "val_dataset   = ELCoGloveRNNDataset(val_df, glove_embeddings, embedding_dim, max_len)\n",
    "test_dataset  = ELCoGloveRNNDataset(test_df, glove_embeddings, embedding_dim, max_len)\n",
    "train_loader = DataLoader(train_dataset, batch_size=batch_size, shuffle=True)\n",
    "val_loader   = DataLoader(val_dataset, batch_size=batch_size, shuffle=False)\n",
    "test_loader  = DataLoader(test_dataset, batch_size=batch_size, shuffle=False)"
   ]
  },
  {
   "cell_type": "code",
   "execution_count": 15,
   "metadata": {},
   "outputs": [
    {
     "data": {
      "text/plain": [
       "RNNClassifier(\n",
       "  (lstm): LSTM(100, 128, num_layers=5, batch_first=True, bidirectional=True)\n",
       "  (fc): Linear(in_features=256, out_features=5, bias=True)\n",
       ")"
      ]
     },
     "execution_count": 15,
     "metadata": {},
     "output_type": "execute_result"
    }
   ],
   "source": [
    "input_dim = embedding_dim  \n",
    "hidden_dim = 128          \n",
    "output_dim = len(label_encoder.classes_)  \n",
    "num_layers = 5\n",
    "bidirectional = True \n",
    "model = RNNClassifier(input_dim, hidden_dim, output_dim, num_layers, bidirectional)\n",
    "criterion = nn.CrossEntropyLoss()\n",
    "optimizer = torch.optim.Adam(model.parameters(), lr=1e-3)\n",
    "model.to(device)"
   ]
  },
  {
   "cell_type": "code",
   "execution_count": 16,
   "metadata": {},
   "outputs": [
    {
     "name": "stdout",
     "output_type": "stream",
     "text": [
      "Epoch [1/20] | Train Loss: 1.2415 | Val Accuracy: 0.4528\n",
      "Epoch [2/20] | Train Loss: 1.1990 | Val Accuracy: 0.4981\n",
      "Epoch [3/20] | Train Loss: 1.1104 | Val Accuracy: 0.5245\n",
      "Epoch [4/20] | Train Loss: 1.0711 | Val Accuracy: 0.5434\n",
      "Epoch [5/20] | Train Loss: 0.9426 | Val Accuracy: 0.6038\n",
      "Epoch [6/20] | Train Loss: 0.8647 | Val Accuracy: 0.5623\n",
      "Epoch [7/20] | Train Loss: 0.8477 | Val Accuracy: 0.5321\n",
      "Epoch [8/20] | Train Loss: 0.7598 | Val Accuracy: 0.5962\n",
      "Epoch [9/20] | Train Loss: 0.7309 | Val Accuracy: 0.6075\n",
      "Epoch [10/20] | Train Loss: 0.6473 | Val Accuracy: 0.6113\n",
      "Epoch [11/20] | Train Loss: 0.6077 | Val Accuracy: 0.6377\n",
      "Epoch [12/20] | Train Loss: 0.6157 | Val Accuracy: 0.6000\n",
      "Epoch [13/20] | Train Loss: 0.6597 | Val Accuracy: 0.6340\n",
      "Epoch [14/20] | Train Loss: 0.6332 | Val Accuracy: 0.6075\n",
      "Epoch [15/20] | Train Loss: 0.5554 | Val Accuracy: 0.5736\n",
      "Epoch [16/20] | Train Loss: 0.6355 | Val Accuracy: 0.6226\n",
      "Epoch [17/20] | Train Loss: 0.5434 | Val Accuracy: 0.6189\n",
      "Epoch [18/20] | Train Loss: 0.4547 | Val Accuracy: 0.6226\n",
      "Epoch [19/20] | Train Loss: 0.4292 | Val Accuracy: 0.6264\n",
      "Epoch [20/20] | Train Loss: 0.4005 | Val Accuracy: 0.6302\n"
     ]
    }
   ],
   "source": [
    "num_epochs = 20\n",
    "for epoch in range(num_epochs):\n",
    "    model.train()\n",
    "    total_loss = 0.0\n",
    "    for sequences, labels in train_loader:\n",
    "        sequences = sequences.to(device)  # shape: (batch_size, max_len, embedding_dim)\n",
    "        labels = labels.to(device)\n",
    "        \n",
    "        optimizer.zero_grad()\n",
    "        outputs = model(sequences)\n",
    "        loss = criterion(outputs, labels)\n",
    "        loss.backward()\n",
    "        optimizer.step()\n",
    "        \n",
    "        total_loss += loss.item()\n",
    "    avg_loss = total_loss / len(train_loader)\n",
    "    \n",
    "    # Validation step\n",
    "    model.eval()\n",
    "    total_correct = 0\n",
    "    total_samples = 0\n",
    "    with torch.no_grad():\n",
    "        for sequences, labels in val_loader:\n",
    "            sequences = sequences.to(device)\n",
    "            labels = labels.to(device)\n",
    "            outputs = model(sequences)\n",
    "            _, preds = torch.max(outputs, dim=1)\n",
    "            total_correct += (preds == labels).sum().item()\n",
    "            total_samples += labels.size(0)\n",
    "    val_accuracy = total_correct / total_samples\n",
    "    print(f\"Epoch [{epoch+1}/{num_epochs}] | Train Loss: {avg_loss:.4f} | Val Accuracy: {val_accuracy:.4f}\")\n"
   ]
  },
  {
   "cell_type": "code",
   "execution_count": 17,
   "metadata": {},
   "outputs": [
    {
     "name": "stdout",
     "output_type": "stream",
     "text": [
      "Test Accuracy: 0.6012\n"
     ]
    }
   ],
   "source": [
    "model.eval()\n",
    "total_correct = 0\n",
    "total_samples = 0\n",
    "with torch.no_grad():\n",
    "    for embeddings, labels in test_loader:\n",
    "        embeddings = embeddings.to(device)\n",
    "        labels = labels.to(device)\n",
    "        outputs = model(embeddings)\n",
    "        _, preds = torch.max(outputs, dim=1)\n",
    "        total_correct += (preds == labels).sum().item()\n",
    "        total_samples += labels.size(0)\n",
    "test_accuracy = total_correct / total_samples\n",
    "print(f\"Test Accuracy: {test_accuracy:.4f}\")"
   ]
  },
  {
   "cell_type": "code",
   "execution_count": null,
   "metadata": {},
   "outputs": [],
   "source": []
  }
 ],
 "metadata": {
  "kernelspec": {
   "display_name": "cs4248_a2",
   "language": "python",
   "name": "python3"
  },
  "language_info": {
   "codemirror_mode": {
    "name": "ipython",
    "version": 3
   },
   "file_extension": ".py",
   "mimetype": "text/x-python",
   "name": "python",
   "nbconvert_exporter": "python",
   "pygments_lexer": "ipython3",
   "version": "3.11.11"
  },
  "orig_nbformat": 4,
  "vscode": {
   "interpreter": {
    "hash": "e6f1ae3358c71d77af43debdfefac99cb56fb4940494ad05e3ef9620a31ac35a"
   }
  }
 },
 "nbformat": 4,
 "nbformat_minor": 2
}
