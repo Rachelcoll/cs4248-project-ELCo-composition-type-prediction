{
 "cells": [
  {
   "cell_type": "code",
   "execution_count": 1,
   "metadata": {},
   "outputs": [],
   "source": [
    "import pandas as pd\n",
    "import numpy as np\n",
    "import json\n",
    "from PIL import Image, ImageDraw, ImageFont\n",
    "import os\n",
    "import regex"
   ]
  },
  {
   "cell_type": "code",
   "execution_count": 114,
   "metadata": {},
   "outputs": [],
   "source": [
    "def preprocess_text(text):\n",
    "    text = text.replace('\\'\\'', '').lower()\n",
    "    split_text = regex.findall(r'\\':?(.*?):?\\'', text)\n",
    "    return split_text\n",
    "\n",
    "def split_emojis(s):\n",
    "    return regex.findall(r\"\\X\", s)\n",
    "\n",
    "def preprocess_emoji(emojis):\n",
    "    emojis_list = split_emojis(emojis)\n",
    "    filtered = [c for c in emojis_list if c.strip() != '']\n",
    "    return filtered\n",
    "\n",
    "elco_df = pd.read_csv('../../data/elco.csv')\n",
    "descs = elco_df[\"Description\"]\n",
    "emoji_dict = {}\n",
    "\n",
    "for i, row in elco_df.iterrows():\n",
    "    descs = preprocess_text(row[\"Description\"])\n",
    "    emojis = preprocess_emoji(row[\"EM\"])\n",
    "    if len(descs) != len(emojis):\n",
    "        print(f\"Error at: {i}, {descs}, {emojis}\")\n",
    "        break\n",
    "    else:\n",
    "        for j in range(len(descs)):\n",
    "            emoji_dict[descs[j]] = emojis[j]\n",
    "            \n",
    "emoji_desc_pair = {pair[0]: pair[1] for pair in set(emoji_dict.items())}"
   ]
  },
  {
   "cell_type": "code",
   "execution_count": 117,
   "metadata": {},
   "outputs": [],
   "source": [
    "def emoji_to_image(em, desc, font_path, image_size=128, save_dir='images'):\n",
    "    os.makedirs(save_dir, exist_ok=True)\n",
    "    image = Image.new(\"RGB\", (image_size, image_size), (255, 255, 255))\n",
    "    draw = ImageDraw.Draw(image)\n",
    "\n",
    "    font = ImageFont.truetype(font_path, 109)\n",
    "    draw.text((0, 0), em, font=font, embedded_color=True)\n",
    "    image.save(os.path.join(save_dir, f\"{desc}.png\"))\n"
   ]
  },
  {
   "cell_type": "code",
   "execution_count": 109,
   "metadata": {},
   "outputs": [],
   "source": [
    "for desc, em in emoji_desc_pair.items():\n",
    "    emoji_to_image(em, desc, '../../NotoColorEmoji.ttf')"
   ]
  }
 ],
 "metadata": {
  "kernelspec": {
   "display_name": "CS4248",
   "language": "python",
   "name": "python3"
  },
  "language_info": {
   "codemirror_mode": {
    "name": "ipython",
    "version": 3
   },
   "file_extension": ".py",
   "mimetype": "text/x-python",
   "name": "python",
   "nbconvert_exporter": "python",
   "pygments_lexer": "ipython3",
   "version": "3.11.11"
  }
 },
 "nbformat": 4,
 "nbformat_minor": 2
}
