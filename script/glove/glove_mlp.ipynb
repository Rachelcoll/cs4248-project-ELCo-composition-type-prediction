{
 "cells": [
  {
   "cell_type": "code",
   "execution_count": 1,
   "metadata": {},
   "outputs": [],
   "source": [
    "import pandas as pd\n",
    "import numpy as np\n",
    "import re\n",
    "from sklearn.model_selection import train_test_split\n",
    "from sklearn.preprocessing import LabelEncoder\n",
    "import torch\n",
    "import torch.nn as nn\n",
    "from torch.utils.data import Dataset, DataLoader"
   ]
  },
  {
   "cell_type": "code",
   "execution_count": 15,
   "metadata": {},
   "outputs": [
    {
     "data": {
      "text/plain": [
       "device(type='cpu')"
      ]
     },
     "execution_count": 15,
     "metadata": {},
     "output_type": "execute_result"
    }
   ],
   "source": [
    "device = torch.device(\"cuda\" if torch.cuda.is_available() else \"cpu\")\n",
    "device"
   ]
  },
  {
   "cell_type": "code",
   "execution_count": 2,
   "metadata": {},
   "outputs": [],
   "source": [
    "def preprocess_text(text_series):\n",
    "    return (text_series\n",
    "            .str.lower()\n",
    "            .replace(r'[^a-z0-9\\s]', ' ', regex=True)\n",
    "            .str.strip()\n",
    "            .str.split()\n",
    "            .apply(lambda tokens: ' '.join(tokens)))"
   ]
  },
  {
   "cell_type": "code",
   "execution_count": 3,
   "metadata": {},
   "outputs": [],
   "source": [
    "def preprocess_df(df):\n",
    "    df = df.drop(columns=['EM'])\n",
    "    \n",
    "    df['Description'] = preprocess_text(df['Description'])\n",
    "    df['EN'] = preprocess_text(df['EN'])\n",
    "    df['combined_text'] = df['Description'] + ' ' + df['EN']\n",
    "    \n",
    "    train_df, test_df = train_test_split(\n",
    "        df, test_size=0.2, random_state=42, stratify=df['Composition strategy']\n",
    "    )\n",
    "    train_df, val_df = train_test_split(\n",
    "        train_df, test_size=0.2, random_state=42, stratify=train_df['Composition strategy']\n",
    "    )\n",
    "    \n",
    "    return train_df, val_df, test_df"
   ]
  },
  {
   "cell_type": "code",
   "execution_count": 5,
   "metadata": {},
   "outputs": [],
   "source": [
    "def load_glove_embeddings(filepath):\n",
    "    glove_dict = {}\n",
    "    with open(filepath, 'r', encoding='utf-8') as f:\n",
    "        for line in f:\n",
    "            values = line.split()\n",
    "            word = values[0]\n",
    "            vector = np.asarray(values[1:], dtype='float32')\n",
    "            glove_dict[word] = vector\n",
    "    return glove_dict\n",
    "\n",
    "def sentence_to_glove(sentence, glove_dict, embedding_dim=100):\n",
    "    tokens = sentence.split()\n",
    "    valid_vectors = [glove_dict[token] for token in tokens if token in glove_dict]\n",
    "    if len(valid_vectors) == 0:\n",
    "        return np.zeros(embedding_dim, dtype='float32')\n",
    "\n",
    "    return np.mean(valid_vectors, axis=0)"
   ]
  },
  {
   "cell_type": "code",
   "execution_count": 6,
   "metadata": {},
   "outputs": [],
   "source": [
    "class ELCoGloveDataset(Dataset):\n",
    "    def __init__(self, df, glove_dict, embedding_dim=100):\n",
    "        self.sentences = df['combined_text'].tolist()\n",
    "        self.labels = df['Composition strategy'].tolist()\n",
    "        self.glove_dict = glove_dict\n",
    "        self.embedding_dim = embedding_dim\n",
    "        \n",
    "    def __len__(self):\n",
    "        return len(self.labels)\n",
    "    \n",
    "    def __getitem__(self, idx):\n",
    "        sentence = self.sentences[idx]\n",
    "        embedding = sentence_to_glove(sentence, self.glove_dict, self.embedding_dim)\n",
    "        embedding = torch.tensor(embedding, dtype=torch.float32)\n",
    "        label = torch.tensor(self.labels[idx], dtype=torch.long)\n",
    "        return embedding, label"
   ]
  },
  {
   "cell_type": "code",
   "execution_count": 20,
   "metadata": {},
   "outputs": [],
   "source": [
    "class MLPClassifier(nn.Module):\n",
    "    def __init__(self, input_dim, hidden_dim, output_dim):\n",
    "        super(MLPClassifier, self).__init__()\n",
    "        self.net = nn.Sequential(\n",
    "            nn.Linear(input_dim, hidden_dim),\n",
    "            nn.ReLU(),\n",
    "            nn.Dropout(0.2),\n",
    "            nn.Linear(hidden_dim, hidden_dim),\n",
    "            nn.ReLU(),\n",
    "            nn.Dropout(0.2),\n",
    "            nn.Linear(hidden_dim, hidden_dim),\n",
    "            nn.ReLU(),\n",
    "            nn.Linear(hidden_dim, output_dim)\n",
    "        )\n",
    "        \n",
    "    def forward(self, x):\n",
    "        return self.net(x)\n"
   ]
  },
  {
   "cell_type": "code",
   "execution_count": 7,
   "metadata": {},
   "outputs": [],
   "source": [
    "glove_path = '../../embeddings/glove.6B.100d.txt'\n",
    "glove_embeddings = load_glove_embeddings(glove_path)\n",
    "embedding_dim = 100"
   ]
  },
  {
   "cell_type": "code",
   "execution_count": 9,
   "metadata": {},
   "outputs": [],
   "source": [
    "ELCo_df = pd.read_csv('../../data/ELCo.csv')\n",
    "label_encoder = LabelEncoder()\n",
    "ELCo_df['Composition strategy'] = label_encoder.fit_transform(ELCo_df['Composition strategy'])"
   ]
  },
  {
   "cell_type": "code",
   "execution_count": 13,
   "metadata": {},
   "outputs": [],
   "source": [
    "batch_size = 32\n",
    "train_df, val_df, test_df = preprocess_df(ELCo_df)\n",
    "train_dataset = ELCoGloveDataset(train_df, glove_embeddings, embedding_dim)\n",
    "val_dataset   = ELCoGloveDataset(val_df, glove_embeddings, embedding_dim)\n",
    "test_dataset  = ELCoGloveDataset(test_df, glove_embeddings, embedding_dim)\n",
    "train_loader = DataLoader(train_dataset, batch_size=batch_size, shuffle=True)\n",
    "val_loader   = DataLoader(val_dataset, batch_size=batch_size, shuffle=False)\n",
    "test_loader  = DataLoader(test_dataset, batch_size=batch_size, shuffle=False)"
   ]
  },
  {
   "cell_type": "code",
   "execution_count": 21,
   "metadata": {},
   "outputs": [
    {
     "data": {
      "text/plain": [
       "MLPClassifier(\n",
       "  (net): Sequential(\n",
       "    (0): Linear(in_features=100, out_features=256, bias=True)\n",
       "    (1): ReLU()\n",
       "    (2): Dropout(p=0.2, inplace=False)\n",
       "    (3): Linear(in_features=256, out_features=256, bias=True)\n",
       "    (4): ReLU()\n",
       "    (5): Dropout(p=0.2, inplace=False)\n",
       "    (6): Linear(in_features=256, out_features=256, bias=True)\n",
       "    (7): ReLU()\n",
       "    (8): Linear(in_features=256, out_features=5, bias=True)\n",
       "  )\n",
       ")"
      ]
     },
     "execution_count": 21,
     "metadata": {},
     "output_type": "execute_result"
    }
   ],
   "source": [
    "input_dim = embedding_dim  \n",
    "hidden_dim = 256          \n",
    "output_dim = len(label_encoder.classes_) \n",
    "model = MLPClassifier(input_dim, hidden_dim, output_dim)\n",
    "criterion = nn.CrossEntropyLoss()\n",
    "optimizer = torch.optim.Adam(model.parameters(), lr=1e-3)\n",
    "model.to(device)"
   ]
  },
  {
   "cell_type": "code",
   "execution_count": 22,
   "metadata": {},
   "outputs": [
    {
     "name": "stdout",
     "output_type": "stream",
     "text": [
      "Epoch [1/100] | Train Loss: 1.2804 | Val Accuracy: 0.4528\n",
      "Epoch [2/100] | Train Loss: 1.1849 | Val Accuracy: 0.5698\n",
      "Epoch [3/100] | Train Loss: 1.1404 | Val Accuracy: 0.5434\n",
      "Epoch [4/100] | Train Loss: 1.0665 | Val Accuracy: 0.5660\n",
      "Epoch [5/100] | Train Loss: 1.0252 | Val Accuracy: 0.5736\n",
      "Epoch [6/100] | Train Loss: 0.9416 | Val Accuracy: 0.5698\n",
      "Epoch [7/100] | Train Loss: 0.8832 | Val Accuracy: 0.5509\n",
      "Epoch [8/100] | Train Loss: 0.8275 | Val Accuracy: 0.5811\n",
      "Epoch [9/100] | Train Loss: 0.7849 | Val Accuracy: 0.6075\n",
      "Epoch [10/100] | Train Loss: 0.7177 | Val Accuracy: 0.6075\n",
      "Epoch [11/100] | Train Loss: 0.6821 | Val Accuracy: 0.6113\n",
      "Epoch [12/100] | Train Loss: 0.6509 | Val Accuracy: 0.6113\n",
      "Epoch [13/100] | Train Loss: 0.5964 | Val Accuracy: 0.5698\n",
      "Epoch [14/100] | Train Loss: 0.5596 | Val Accuracy: 0.5925\n",
      "Epoch [15/100] | Train Loss: 0.5305 | Val Accuracy: 0.6151\n",
      "Epoch [16/100] | Train Loss: 0.4481 | Val Accuracy: 0.6075\n",
      "Epoch [17/100] | Train Loss: 0.4497 | Val Accuracy: 0.6264\n",
      "Epoch [18/100] | Train Loss: 0.4292 | Val Accuracy: 0.6189\n",
      "Epoch [19/100] | Train Loss: 0.3532 | Val Accuracy: 0.6189\n",
      "Epoch [20/100] | Train Loss: 0.2869 | Val Accuracy: 0.5887\n",
      "Epoch [21/100] | Train Loss: 0.2620 | Val Accuracy: 0.6264\n",
      "Epoch [22/100] | Train Loss: 0.2614 | Val Accuracy: 0.6226\n",
      "Epoch [23/100] | Train Loss: 0.2591 | Val Accuracy: 0.6151\n",
      "Epoch [24/100] | Train Loss: 0.2388 | Val Accuracy: 0.6038\n",
      "Epoch [25/100] | Train Loss: 0.2000 | Val Accuracy: 0.6340\n",
      "Epoch [26/100] | Train Loss: 0.2029 | Val Accuracy: 0.6226\n",
      "Epoch [27/100] | Train Loss: 0.1981 | Val Accuracy: 0.6000\n",
      "Epoch [28/100] | Train Loss: 0.1883 | Val Accuracy: 0.6302\n",
      "Epoch [29/100] | Train Loss: 0.1498 | Val Accuracy: 0.6226\n",
      "Epoch [30/100] | Train Loss: 0.1461 | Val Accuracy: 0.6038\n",
      "Epoch [31/100] | Train Loss: 0.1281 | Val Accuracy: 0.6189\n",
      "Epoch [32/100] | Train Loss: 0.1479 | Val Accuracy: 0.6226\n",
      "Epoch [33/100] | Train Loss: 0.1806 | Val Accuracy: 0.6226\n",
      "Epoch [34/100] | Train Loss: 0.1450 | Val Accuracy: 0.5698\n",
      "Epoch [35/100] | Train Loss: 0.1249 | Val Accuracy: 0.5774\n",
      "Epoch [36/100] | Train Loss: 0.1122 | Val Accuracy: 0.6264\n",
      "Epoch [37/100] | Train Loss: 0.1919 | Val Accuracy: 0.6038\n",
      "Epoch [38/100] | Train Loss: 0.1257 | Val Accuracy: 0.6113\n",
      "Epoch [39/100] | Train Loss: 0.0955 | Val Accuracy: 0.6151\n",
      "Epoch [40/100] | Train Loss: 0.1205 | Val Accuracy: 0.6075\n",
      "Epoch [41/100] | Train Loss: 0.1122 | Val Accuracy: 0.6302\n",
      "Epoch [42/100] | Train Loss: 0.0878 | Val Accuracy: 0.6340\n",
      "Epoch [43/100] | Train Loss: 0.1261 | Val Accuracy: 0.6302\n",
      "Epoch [44/100] | Train Loss: 0.1566 | Val Accuracy: 0.6189\n",
      "Epoch [45/100] | Train Loss: 0.1092 | Val Accuracy: 0.6000\n",
      "Epoch [46/100] | Train Loss: 0.1195 | Val Accuracy: 0.5849\n",
      "Epoch [47/100] | Train Loss: 0.1312 | Val Accuracy: 0.6264\n",
      "Epoch [48/100] | Train Loss: 0.1169 | Val Accuracy: 0.5887\n",
      "Epoch [49/100] | Train Loss: 0.1230 | Val Accuracy: 0.6075\n",
      "Epoch [50/100] | Train Loss: 0.0690 | Val Accuracy: 0.6189\n",
      "Epoch [51/100] | Train Loss: 0.0595 | Val Accuracy: 0.6113\n",
      "Epoch [52/100] | Train Loss: 0.0816 | Val Accuracy: 0.6151\n",
      "Epoch [53/100] | Train Loss: 0.0576 | Val Accuracy: 0.5925\n",
      "Epoch [54/100] | Train Loss: 0.0673 | Val Accuracy: 0.6189\n",
      "Epoch [55/100] | Train Loss: 0.0777 | Val Accuracy: 0.6151\n",
      "Epoch [56/100] | Train Loss: 0.0579 | Val Accuracy: 0.5849\n",
      "Epoch [57/100] | Train Loss: 0.0811 | Val Accuracy: 0.6113\n",
      "Epoch [58/100] | Train Loss: 0.0694 | Val Accuracy: 0.6151\n",
      "Epoch [59/100] | Train Loss: 0.0689 | Val Accuracy: 0.5925\n",
      "Epoch [60/100] | Train Loss: 0.1864 | Val Accuracy: 0.5925\n",
      "Epoch [61/100] | Train Loss: 0.1555 | Val Accuracy: 0.6000\n",
      "Epoch [62/100] | Train Loss: 0.0793 | Val Accuracy: 0.6000\n",
      "Epoch [63/100] | Train Loss: 0.0591 | Val Accuracy: 0.5925\n",
      "Epoch [64/100] | Train Loss: 0.0723 | Val Accuracy: 0.5962\n",
      "Epoch [65/100] | Train Loss: 0.0597 | Val Accuracy: 0.6000\n",
      "Epoch [66/100] | Train Loss: 0.0539 | Val Accuracy: 0.5849\n",
      "Epoch [67/100] | Train Loss: 0.0705 | Val Accuracy: 0.5811\n",
      "Epoch [68/100] | Train Loss: 0.0760 | Val Accuracy: 0.6113\n",
      "Epoch [69/100] | Train Loss: 0.0469 | Val Accuracy: 0.5925\n",
      "Epoch [70/100] | Train Loss: 0.0412 | Val Accuracy: 0.5962\n",
      "Epoch [71/100] | Train Loss: 0.0390 | Val Accuracy: 0.5962\n",
      "Epoch [72/100] | Train Loss: 0.0514 | Val Accuracy: 0.6038\n",
      "Epoch [73/100] | Train Loss: 0.0378 | Val Accuracy: 0.5887\n",
      "Epoch [74/100] | Train Loss: 0.0465 | Val Accuracy: 0.5925\n",
      "Epoch [75/100] | Train Loss: 0.0322 | Val Accuracy: 0.5962\n",
      "Epoch [76/100] | Train Loss: 0.0431 | Val Accuracy: 0.6340\n",
      "Epoch [77/100] | Train Loss: 0.0528 | Val Accuracy: 0.6264\n",
      "Epoch [78/100] | Train Loss: 0.0625 | Val Accuracy: 0.6075\n",
      "Epoch [79/100] | Train Loss: 0.0653 | Val Accuracy: 0.6038\n",
      "Epoch [80/100] | Train Loss: 0.0512 | Val Accuracy: 0.5962\n",
      "Epoch [81/100] | Train Loss: 0.0449 | Val Accuracy: 0.5849\n",
      "Epoch [82/100] | Train Loss: 0.0653 | Val Accuracy: 0.6226\n",
      "Epoch [83/100] | Train Loss: 0.0867 | Val Accuracy: 0.5887\n",
      "Epoch [84/100] | Train Loss: 0.0678 | Val Accuracy: 0.5736\n",
      "Epoch [85/100] | Train Loss: 0.0547 | Val Accuracy: 0.6000\n",
      "Epoch [86/100] | Train Loss: 0.0300 | Val Accuracy: 0.6000\n",
      "Epoch [87/100] | Train Loss: 0.0305 | Val Accuracy: 0.6075\n",
      "Epoch [88/100] | Train Loss: 0.0331 | Val Accuracy: 0.5887\n",
      "Epoch [89/100] | Train Loss: 0.0316 | Val Accuracy: 0.5849\n",
      "Epoch [90/100] | Train Loss: 0.0524 | Val Accuracy: 0.6075\n",
      "Epoch [91/100] | Train Loss: 0.0349 | Val Accuracy: 0.5849\n",
      "Epoch [92/100] | Train Loss: 0.0214 | Val Accuracy: 0.6038\n",
      "Epoch [93/100] | Train Loss: 0.0398 | Val Accuracy: 0.6075\n",
      "Epoch [94/100] | Train Loss: 0.0268 | Val Accuracy: 0.6075\n",
      "Epoch [95/100] | Train Loss: 0.0324 | Val Accuracy: 0.6075\n",
      "Epoch [96/100] | Train Loss: 0.0510 | Val Accuracy: 0.6075\n",
      "Epoch [97/100] | Train Loss: 0.0570 | Val Accuracy: 0.5811\n",
      "Epoch [98/100] | Train Loss: 0.0800 | Val Accuracy: 0.5887\n",
      "Epoch [99/100] | Train Loss: 0.0791 | Val Accuracy: 0.5660\n",
      "Epoch [100/100] | Train Loss: 0.0643 | Val Accuracy: 0.6038\n"
     ]
    }
   ],
   "source": [
    "num_epochs = 100\n",
    "for epoch in range(num_epochs):\n",
    "    model.train()\n",
    "    total_loss = 0.0\n",
    "    for embeddings, labels in train_loader:\n",
    "        embeddings = embeddings.to(device)\n",
    "        labels = labels.to(device)\n",
    "        \n",
    "        optimizer.zero_grad()\n",
    "        outputs = model(embeddings)\n",
    "        loss = criterion(outputs, labels)\n",
    "        loss.backward()\n",
    "        optimizer.step()\n",
    "        \n",
    "        total_loss += loss.item()\n",
    "    \n",
    "    avg_loss = total_loss / len(train_loader)\n",
    "    \n",
    "    # Validation step\n",
    "    model.eval()\n",
    "    total_correct = 0\n",
    "    total_samples = 0\n",
    "    with torch.no_grad():\n",
    "        for embeddings, labels in val_loader:\n",
    "            embeddings = embeddings.to(device)\n",
    "            labels = labels.to(device)\n",
    "            outputs = model(embeddings)\n",
    "            _, preds = torch.max(outputs, dim=1)\n",
    "            total_correct += (preds == labels).sum().item()\n",
    "            total_samples += labels.size(0)\n",
    "    val_accuracy = total_correct / total_samples\n",
    "    print(f\"Epoch [{epoch+1}/{num_epochs}] | Train Loss: {avg_loss:.4f} | Val Accuracy: {val_accuracy:.4f}\")"
   ]
  },
  {
   "cell_type": "code",
   "execution_count": 23,
   "metadata": {},
   "outputs": [
    {
     "name": "stdout",
     "output_type": "stream",
     "text": [
      "Test Accuracy: 0.6073\n"
     ]
    }
   ],
   "source": [
    "model.eval()\n",
    "total_correct = 0\n",
    "total_samples = 0\n",
    "with torch.no_grad():\n",
    "    for embeddings, labels in test_loader:\n",
    "        embeddings = embeddings.to(device)\n",
    "        labels = labels.to(device)\n",
    "        outputs = model(embeddings)\n",
    "        _, preds = torch.max(outputs, dim=1)\n",
    "        total_correct += (preds == labels).sum().item()\n",
    "        total_samples += labels.size(0)\n",
    "test_accuracy = total_correct / total_samples\n",
    "print(f\"Test Accuracy: {test_accuracy:.4f}\")"
   ]
  },
  {
   "cell_type": "code",
   "execution_count": null,
   "metadata": {},
   "outputs": [],
   "source": []
  }
 ],
 "metadata": {
  "kernelspec": {
   "display_name": "cs4248_a2",
   "language": "python",
   "name": "python3"
  },
  "language_info": {
   "codemirror_mode": {
    "name": "ipython",
    "version": 3
   },
   "file_extension": ".py",
   "mimetype": "text/x-python",
   "name": "python",
   "nbconvert_exporter": "python",
   "pygments_lexer": "ipython3",
   "version": "3.11.11"
  },
  "orig_nbformat": 4,
  "vscode": {
   "interpreter": {
    "hash": "e6f1ae3358c71d77af43debdfefac99cb56fb4940494ad05e3ef9620a31ac35a"
   }
  }
 },
 "nbformat": 4,
 "nbformat_minor": 2
}
