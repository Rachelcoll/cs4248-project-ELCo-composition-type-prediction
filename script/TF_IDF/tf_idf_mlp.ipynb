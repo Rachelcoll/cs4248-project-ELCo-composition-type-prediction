{
 "cells": [
  {
   "cell_type": "code",
   "execution_count": 1,
   "metadata": {},
   "outputs": [],
   "source": [
    "import pandas as pd\n",
    "import re\n",
    "from sklearn.model_selection import train_test_split\n",
    "from sklearn.feature_extraction.text import TfidfVectorizer\n",
    "from sklearn.preprocessing import LabelEncoder\n",
    "import torch\n",
    "import torch.nn as nn\n",
    "from torch.utils.data import Dataset, DataLoader\n",
    "import numpy as np\n"
   ]
  },
  {
   "cell_type": "code",
   "execution_count": 15,
   "metadata": {},
   "outputs": [
    {
     "data": {
      "text/plain": [
       "device(type='cpu')"
      ]
     },
     "execution_count": 15,
     "metadata": {},
     "output_type": "execute_result"
    }
   ],
   "source": [
    "device = torch.device(\"cuda\" if torch.cuda.is_available() else \"cpu\")\n",
    "device"
   ]
  },
  {
   "cell_type": "code",
   "execution_count": 2,
   "metadata": {},
   "outputs": [],
   "source": [
    "def preprocess_text(text_series):\n",
    "    return (text_series\n",
    "            .str.lower()\n",
    "            .replace(r'[^a-z0-9\\s]', ' ', regex=True)\n",
    "            .str.strip()\n",
    "            .str.split()\n",
    "            .apply(lambda tokens: ' '.join(tokens)))\n",
    "\n",
    "def preprocess_df(df):\n",
    "    df = df.drop(columns=['EM'])\n",
    "    df['Description'] = preprocess_text(df['Description'])\n",
    "    df['EN'] = preprocess_text(df['EN'])\n",
    "    df['combined_text'] = df['Description'] + ' ' + df['EN']\n",
    "    train_df, test_df = train_test_split(\n",
    "        df, test_size=0.2, random_state=42, stratify=df['Composition strategy']\n",
    "    )\n",
    "    train_df, val_df = train_test_split(\n",
    "        train_df, test_size=0.2, random_state=42, stratify=train_df['Composition strategy']\n",
    "    )\n",
    "    return train_df, val_df, test_df\n"
   ]
  },
  {
   "cell_type": "code",
   "execution_count": 3,
   "metadata": {},
   "outputs": [],
   "source": [
    "class ELCoTFIDFDataset(Dataset):\n",
    "    def __init__(self, X, y):\n",
    "        # Convert the sparse matrix to a dense tensor\n",
    "        self.X = torch.tensor(X.toarray(), dtype=torch.float32)\n",
    "        self.y = torch.tensor(y, dtype=torch.long)\n",
    "        \n",
    "    def __len__(self):\n",
    "        return len(self.y)\n",
    "    \n",
    "    def __getitem__(self, idx):\n",
    "        return self.X[idx], self.y[idx]"
   ]
  },
  {
   "cell_type": "code",
   "execution_count": 4,
   "metadata": {},
   "outputs": [],
   "source": [
    "class MLPClassifier(nn.Module):\n",
    "    def __init__(self, input_dim, hidden_dim, output_dim):\n",
    "        super(MLPClassifier, self).__init__()\n",
    "        self.net = nn.Sequential(\n",
    "            nn.Linear(input_dim, hidden_dim),\n",
    "            nn.ReLU(),\n",
    "            nn.Linear(hidden_dim, output_dim)\n",
    "        )\n",
    "        \n",
    "    def forward(self, x):\n",
    "        return self.net(x)"
   ]
  },
  {
   "cell_type": "code",
   "execution_count": 9,
   "metadata": {},
   "outputs": [],
   "source": [
    "ELCo_df = pd.read_csv('../../data/ELCo.csv')\n",
    "label_encoder = LabelEncoder()\n",
    "vectorizer = TfidfVectorizer(max_features=10000)\n",
    "ELCo_df['Composition strategy'] = label_encoder.fit_transform(ELCo_df['Composition strategy'])\n",
    "train_df, val_df, test_df = preprocess_df(ELCo_df)\n",
    "X_train = vectorizer.fit_transform(train_df['combined_text'])\n",
    "X_val   = vectorizer.transform(val_df['combined_text'])\n",
    "X_test  = vectorizer.transform(test_df['combined_text'])\n",
    "y_train = train_df['Composition strategy'].values\n",
    "y_val   = val_df['Composition strategy'].values\n",
    "y_test  = test_df['Composition strategy'].values"
   ]
  },
  {
   "cell_type": "code",
   "execution_count": 10,
   "metadata": {},
   "outputs": [],
   "source": [
    "train_dataset = ELCoTFIDFDataset(X_train, y_train)\n",
    "val_dataset   = ELCoTFIDFDataset(X_val, y_val)\n",
    "test_dataset  = ELCoTFIDFDataset(X_test, y_test)"
   ]
  },
  {
   "cell_type": "code",
   "execution_count": 11,
   "metadata": {},
   "outputs": [],
   "source": [
    "batch_size = 32\n",
    "train_loader = DataLoader(train_dataset, batch_size=batch_size, shuffle=True)\n",
    "val_loader   = DataLoader(val_dataset, batch_size=batch_size, shuffle=False)\n",
    "test_loader  = DataLoader(test_dataset, batch_size=batch_size, shuffle=False)"
   ]
  },
  {
   "cell_type": "code",
   "execution_count": 16,
   "metadata": {},
   "outputs": [],
   "source": [
    "input_dim = X_train.shape[1]               \n",
    "hidden_dim = 128                         \n",
    "output_dim = len(label_encoder.classes_)\n",
    "\n",
    "model = MLPClassifier(input_dim, hidden_dim, output_dim)\n",
    "model.to(device)\n",
    "criterion = nn.CrossEntropyLoss()\n",
    "optimizer = torch.optim.Adam(model.parameters(), lr=1e-3)\n"
   ]
  },
  {
   "cell_type": "code",
   "execution_count": 19,
   "metadata": {},
   "outputs": [
    {
     "name": "stdout",
     "output_type": "stream",
     "text": [
      "Epoch [1/100] | Train Loss: 0.3104 | Val Acc: 0.5698\n",
      "Epoch [2/100] | Train Loss: 0.3068 | Val Acc: 0.5811\n",
      "Epoch [3/100] | Train Loss: 0.2723 | Val Acc: 0.5811\n",
      "Epoch [4/100] | Train Loss: 0.2460 | Val Acc: 0.5849\n",
      "Epoch [5/100] | Train Loss: 0.2332 | Val Acc: 0.5736\n",
      "Epoch [6/100] | Train Loss: 0.2215 | Val Acc: 0.5849\n",
      "Epoch [7/100] | Train Loss: 0.2104 | Val Acc: 0.5811\n",
      "Epoch [8/100] | Train Loss: 0.1908 | Val Acc: 0.5849\n",
      "Epoch [9/100] | Train Loss: 0.1760 | Val Acc: 0.5811\n",
      "Epoch [10/100] | Train Loss: 0.1684 | Val Acc: 0.5849\n",
      "Epoch [11/100] | Train Loss: 0.1687 | Val Acc: 0.5811\n",
      "Epoch [12/100] | Train Loss: 0.1486 | Val Acc: 0.5774\n",
      "Epoch [13/100] | Train Loss: 0.1423 | Val Acc: 0.5925\n",
      "Epoch [14/100] | Train Loss: 0.1347 | Val Acc: 0.5849\n",
      "Epoch [15/100] | Train Loss: 0.1238 | Val Acc: 0.5811\n",
      "Epoch [16/100] | Train Loss: 0.1183 | Val Acc: 0.5774\n",
      "Epoch [17/100] | Train Loss: 0.1103 | Val Acc: 0.5849\n",
      "Epoch [18/100] | Train Loss: 0.1051 | Val Acc: 0.5774\n",
      "Epoch [19/100] | Train Loss: 0.1013 | Val Acc: 0.5811\n",
      "Epoch [20/100] | Train Loss: 0.0961 | Val Acc: 0.5774\n",
      "Epoch [21/100] | Train Loss: 0.0915 | Val Acc: 0.5887\n",
      "Epoch [22/100] | Train Loss: 0.0899 | Val Acc: 0.5811\n",
      "Epoch [23/100] | Train Loss: 0.0829 | Val Acc: 0.5736\n",
      "Epoch [24/100] | Train Loss: 0.0937 | Val Acc: 0.5811\n",
      "Epoch [25/100] | Train Loss: 0.0802 | Val Acc: 0.5774\n",
      "Epoch [26/100] | Train Loss: 0.0724 | Val Acc: 0.5774\n",
      "Epoch [27/100] | Train Loss: 0.0728 | Val Acc: 0.5811\n",
      "Epoch [28/100] | Train Loss: 0.0656 | Val Acc: 0.5887\n",
      "Epoch [29/100] | Train Loss: 0.0638 | Val Acc: 0.5849\n",
      "Epoch [30/100] | Train Loss: 0.0604 | Val Acc: 0.5887\n",
      "Epoch [31/100] | Train Loss: 0.0601 | Val Acc: 0.5887\n",
      "Epoch [32/100] | Train Loss: 0.0594 | Val Acc: 0.5849\n",
      "Epoch [33/100] | Train Loss: 0.0541 | Val Acc: 0.5849\n",
      "Epoch [34/100] | Train Loss: 0.0545 | Val Acc: 0.5887\n",
      "Epoch [35/100] | Train Loss: 0.0528 | Val Acc: 0.5887\n",
      "Epoch [36/100] | Train Loss: 0.0488 | Val Acc: 0.5849\n",
      "Epoch [37/100] | Train Loss: 0.0451 | Val Acc: 0.5849\n",
      "Epoch [38/100] | Train Loss: 0.0444 | Val Acc: 0.5849\n",
      "Epoch [39/100] | Train Loss: 0.0418 | Val Acc: 0.5849\n",
      "Epoch [40/100] | Train Loss: 0.0425 | Val Acc: 0.5887\n",
      "Epoch [41/100] | Train Loss: 0.0391 | Val Acc: 0.5925\n",
      "Epoch [42/100] | Train Loss: 0.0376 | Val Acc: 0.5849\n",
      "Epoch [43/100] | Train Loss: 0.0412 | Val Acc: 0.5887\n",
      "Epoch [44/100] | Train Loss: 0.0363 | Val Acc: 0.5774\n",
      "Epoch [45/100] | Train Loss: 0.0336 | Val Acc: 0.5811\n",
      "Epoch [46/100] | Train Loss: 0.0323 | Val Acc: 0.5925\n",
      "Epoch [47/100] | Train Loss: 0.0316 | Val Acc: 0.5811\n",
      "Epoch [48/100] | Train Loss: 0.0298 | Val Acc: 0.5774\n",
      "Epoch [49/100] | Train Loss: 0.0295 | Val Acc: 0.5811\n",
      "Epoch [50/100] | Train Loss: 0.0278 | Val Acc: 0.5811\n",
      "Epoch [51/100] | Train Loss: 0.0294 | Val Acc: 0.5925\n",
      "Epoch [52/100] | Train Loss: 0.0265 | Val Acc: 0.5698\n",
      "Epoch [53/100] | Train Loss: 0.0285 | Val Acc: 0.5849\n",
      "Epoch [54/100] | Train Loss: 0.0262 | Val Acc: 0.5849\n",
      "Epoch [55/100] | Train Loss: 0.0252 | Val Acc: 0.5811\n",
      "Epoch [56/100] | Train Loss: 0.0246 | Val Acc: 0.5849\n",
      "Epoch [57/100] | Train Loss: 0.0221 | Val Acc: 0.5849\n",
      "Epoch [58/100] | Train Loss: 0.0213 | Val Acc: 0.5811\n",
      "Epoch [59/100] | Train Loss: 0.0206 | Val Acc: 0.5811\n",
      "Epoch [60/100] | Train Loss: 0.0210 | Val Acc: 0.5811\n",
      "Epoch [61/100] | Train Loss: 0.0191 | Val Acc: 0.5698\n",
      "Epoch [62/100] | Train Loss: 0.0189 | Val Acc: 0.5736\n",
      "Epoch [63/100] | Train Loss: 0.0191 | Val Acc: 0.5774\n",
      "Epoch [64/100] | Train Loss: 0.0175 | Val Acc: 0.5736\n",
      "Epoch [65/100] | Train Loss: 0.0195 | Val Acc: 0.5774\n",
      "Epoch [66/100] | Train Loss: 0.0169 | Val Acc: 0.5698\n",
      "Epoch [67/100] | Train Loss: 0.0168 | Val Acc: 0.5660\n",
      "Epoch [68/100] | Train Loss: 0.0154 | Val Acc: 0.5660\n",
      "Epoch [69/100] | Train Loss: 0.0150 | Val Acc: 0.5660\n",
      "Epoch [70/100] | Train Loss: 0.0144 | Val Acc: 0.5660\n",
      "Epoch [71/100] | Train Loss: 0.0142 | Val Acc: 0.5660\n",
      "Epoch [72/100] | Train Loss: 0.0147 | Val Acc: 0.5623\n",
      "Epoch [73/100] | Train Loss: 0.0134 | Val Acc: 0.5623\n",
      "Epoch [74/100] | Train Loss: 0.0131 | Val Acc: 0.5660\n",
      "Epoch [75/100] | Train Loss: 0.0133 | Val Acc: 0.5660\n",
      "Epoch [76/100] | Train Loss: 0.0128 | Val Acc: 0.5698\n",
      "Epoch [77/100] | Train Loss: 0.0123 | Val Acc: 0.5698\n",
      "Epoch [78/100] | Train Loss: 0.0120 | Val Acc: 0.5660\n",
      "Epoch [79/100] | Train Loss: 0.0112 | Val Acc: 0.5660\n",
      "Epoch [80/100] | Train Loss: 0.0109 | Val Acc: 0.5660\n",
      "Epoch [81/100] | Train Loss: 0.0105 | Val Acc: 0.5660\n",
      "Epoch [82/100] | Train Loss: 0.0106 | Val Acc: 0.5660\n",
      "Epoch [83/100] | Train Loss: 0.0102 | Val Acc: 0.5660\n",
      "Epoch [84/100] | Train Loss: 0.0098 | Val Acc: 0.5660\n",
      "Epoch [85/100] | Train Loss: 0.0095 | Val Acc: 0.5660\n",
      "Epoch [86/100] | Train Loss: 0.0095 | Val Acc: 0.5660\n",
      "Epoch [87/100] | Train Loss: 0.0093 | Val Acc: 0.5660\n",
      "Epoch [88/100] | Train Loss: 0.0089 | Val Acc: 0.5698\n",
      "Epoch [89/100] | Train Loss: 0.0085 | Val Acc: 0.5660\n",
      "Epoch [90/100] | Train Loss: 0.0083 | Val Acc: 0.5660\n",
      "Epoch [91/100] | Train Loss: 0.0088 | Val Acc: 0.5660\n",
      "Epoch [92/100] | Train Loss: 0.0080 | Val Acc: 0.5660\n",
      "Epoch [93/100] | Train Loss: 0.0078 | Val Acc: 0.5660\n",
      "Epoch [94/100] | Train Loss: 0.0074 | Val Acc: 0.5623\n",
      "Epoch [95/100] | Train Loss: 0.0072 | Val Acc: 0.5660\n",
      "Epoch [96/100] | Train Loss: 0.0070 | Val Acc: 0.5623\n",
      "Epoch [97/100] | Train Loss: 0.0070 | Val Acc: 0.5623\n",
      "Epoch [98/100] | Train Loss: 0.0067 | Val Acc: 0.5623\n",
      "Epoch [99/100] | Train Loss: 0.0067 | Val Acc: 0.5623\n",
      "Epoch [100/100] | Train Loss: 0.0071 | Val Acc: 0.5623\n"
     ]
    }
   ],
   "source": [
    "num_epochs = 100 \n",
    "\n",
    "for epoch in range(num_epochs):\n",
    "    model.train()\n",
    "    total_loss = 0.0\n",
    "    for X_batch, y_batch in train_loader:\n",
    "        X_batch = X_batch.to(device)\n",
    "        y_batch = y_batch.to(device)\n",
    "        \n",
    "        optimizer.zero_grad()\n",
    "        outputs = model(X_batch)\n",
    "        loss = criterion(outputs, y_batch)\n",
    "        loss.backward()\n",
    "        optimizer.step()\n",
    "        \n",
    "        total_loss += loss.item()\n",
    "    \n",
    "    avg_train_loss = total_loss / len(train_loader)\n",
    "    \n",
    "    model.eval()\n",
    "    total_correct = 0\n",
    "    total_samples = 0\n",
    "    with torch.no_grad():\n",
    "        for X_val_batch, y_val_batch in val_loader:\n",
    "            X_val_batch = X_val_batch.to(device)\n",
    "            y_val_batch = y_val_batch.to(device)\n",
    "            \n",
    "            outputs = model(X_val_batch)\n",
    "            _, preds = torch.max(outputs, dim=1)\n",
    "            total_correct += (preds == y_val_batch).sum().item()\n",
    "            total_samples += y_val_batch.size(0)\n",
    "    \n",
    "    val_accuracy = total_correct / total_samples\n",
    "    print(f\"Epoch [{epoch+1}/{num_epochs}] | Train Loss: {avg_train_loss:.4f} | Val Acc: {val_accuracy:.4f}\")\n"
   ]
  },
  {
   "cell_type": "code",
   "execution_count": 20,
   "metadata": {},
   "outputs": [
    {
     "name": "stdout",
     "output_type": "stream",
     "text": [
      "Test Accuracy: 0.6042\n"
     ]
    }
   ],
   "source": [
    "model.eval()\n",
    "test_correct = 0\n",
    "test_samples = 0\n",
    "\n",
    "with torch.no_grad():\n",
    "    for X_test_batch, y_test_batch in test_loader:\n",
    "        X_test_batch = X_test_batch.to(device)\n",
    "        y_test_batch = y_test_batch.to(device)\n",
    "        \n",
    "        outputs = model(X_test_batch)\n",
    "        _, preds = torch.max(outputs, dim=1)\n",
    "        test_correct += (preds == y_test_batch).sum().item()\n",
    "        test_samples += y_test_batch.size(0)\n",
    "\n",
    "test_accuracy = test_correct / test_samples\n",
    "print(f\"Test Accuracy: {test_accuracy:.4f}\")"
   ]
  }
 ],
 "metadata": {
  "kernelspec": {
   "display_name": "cs4248_a2",
   "language": "python",
   "name": "python3"
  },
  "language_info": {
   "codemirror_mode": {
    "name": "ipython",
    "version": 3
   },
   "file_extension": ".py",
   "mimetype": "text/x-python",
   "name": "python",
   "nbconvert_exporter": "python",
   "pygments_lexer": "ipython3",
   "version": "3.11.11"
  },
  "orig_nbformat": 4,
  "vscode": {
   "interpreter": {
    "hash": "e6f1ae3358c71d77af43debdfefac99cb56fb4940494ad05e3ef9620a31ac35a"
   }
  }
 },
 "nbformat": 4,
 "nbformat_minor": 2
}
